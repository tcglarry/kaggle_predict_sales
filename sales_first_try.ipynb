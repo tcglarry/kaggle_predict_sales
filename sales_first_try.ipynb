{
  "nbformat": 4,
  "nbformat_minor": 0,
  "metadata": {
    "colab": {
      "name": "sales_first_try.ipynb",
      "version": "0.3.2",
      "provenance": [],
      "collapsed_sections": [],
      "include_colab_link": true
    },
    "kernelspec": {
      "name": "python3",
      "display_name": "Python 3"
    },
    "accelerator": "GPU"
  },
  "cells": [
    {
      "cell_type": "markdown",
      "metadata": {
        "id": "view-in-github",
        "colab_type": "text"
      },
      "source": [
        "[View in Colaboratory](https://colab.research.google.com/github/tcglarry/kaggle_predict_sales/blob/master/sales_first_try.ipynb)"
      ]
    },
    {
      "metadata": {
        "id": "S_7nO69X7bf4",
        "colab_type": "code",
        "colab": {
          "base_uri": "https://localhost:8080/",
          "height": 2278
        },
        "outputId": "4af9e43a-48af-4936-db14-72bf61c7438b"
      },
      "cell_type": "code",
      "source": [
        "\n",
        "\n",
        "# Install a Drive FUSE wrapper.\n",
        "# https://github.com/astrada/google-drive-ocamlfuse\n",
        "!apt-get install -y -qq software-properties-common python-software-properties module-init-tools\n",
        "!add-apt-repository -y ppa:alessandro-strada/ppa 2>&1 > /dev/null\n",
        "!apt-get update -qq 2>&1 > /dev/null\n",
        "!apt-get -y install -qq google-drive-ocamlfuse fuse"
      ],
      "execution_count": 1,
      "outputs": [
        {
          "output_type": "stream",
          "text": [
            "Preconfiguring packages ...\n",
            "Selecting previously unselected package cron.\n",
            "(Reading database ... 18408 files and directories currently installed.)\n",
            "Preparing to unpack .../00-cron_3.0pl1-128ubuntu5_amd64.deb ...\n",
            "Unpacking cron (3.0pl1-128ubuntu5) ...\n",
            "Selecting previously unselected package libapparmor1:amd64.\n",
            "Preparing to unpack .../01-libapparmor1_2.11.0-2ubuntu17.1_amd64.deb ...\n",
            "Unpacking libapparmor1:amd64 (2.11.0-2ubuntu17.1) ...\n",
            "Selecting previously unselected package libdbus-1-3:amd64.\n",
            "Preparing to unpack .../02-libdbus-1-3_1.10.22-1ubuntu1_amd64.deb ...\n",
            "Unpacking libdbus-1-3:amd64 (1.10.22-1ubuntu1) ...\n",
            "Selecting previously unselected package dbus.\n",
            "Preparing to unpack .../03-dbus_1.10.22-1ubuntu1_amd64.deb ...\n",
            "Unpacking dbus (1.10.22-1ubuntu1) ...\n",
            "Selecting previously unselected package dirmngr.\n",
            "Preparing to unpack .../04-dirmngr_2.1.15-1ubuntu8.1_amd64.deb ...\n",
            "Unpacking dirmngr (2.1.15-1ubuntu8.1) ...\n",
            "Selecting previously unselected package distro-info-data.\n",
            "Preparing to unpack .../05-distro-info-data_0.36ubuntu0.2_all.deb ...\n",
            "Unpacking distro-info-data (0.36ubuntu0.2) ...\n",
            "Selecting previously unselected package libkmod2:amd64.\n",
            "Preparing to unpack .../06-libkmod2_24-1ubuntu2_amd64.deb ...\n",
            "Unpacking libkmod2:amd64 (24-1ubuntu2) ...\n",
            "Selecting previously unselected package kmod.\n",
            "Preparing to unpack .../07-kmod_24-1ubuntu2_amd64.deb ...\n",
            "Unpacking kmod (24-1ubuntu2) ...\n",
            "Selecting previously unselected package lsb-release.\n",
            "Preparing to unpack .../08-lsb-release_9.20160110ubuntu5_all.deb ...\n",
            "Unpacking lsb-release (9.20160110ubuntu5) ...\n",
            "Selecting previously unselected package libgirepository-1.0-1:amd64.\n",
            "Preparing to unpack .../09-libgirepository-1.0-1_1.54.1-1_amd64.deb ...\n",
            "Unpacking libgirepository-1.0-1:amd64 (1.54.1-1) ...\n",
            "Selecting previously unselected package gir1.2-glib-2.0:amd64.\n",
            "Preparing to unpack .../10-gir1.2-glib-2.0_1.54.1-1_amd64.deb ...\n",
            "Unpacking gir1.2-glib-2.0:amd64 (1.54.1-1) ...\n",
            "Selecting previously unselected package iso-codes.\n",
            "Preparing to unpack .../11-iso-codes_3.75-1_all.deb ...\n",
            "Unpacking iso-codes (3.75-1) ...\n",
            "Selecting previously unselected package libdbus-glib-1-2:amd64.\n",
            "Preparing to unpack .../12-libdbus-glib-1-2_0.108-2_amd64.deb ...\n",
            "Unpacking libdbus-glib-1-2:amd64 (0.108-2) ...\n",
            "Selecting previously unselected package python-apt-common.\n",
            "Preparing to unpack .../13-python-apt-common_1.4.0~beta3build2_all.deb ...\n",
            "Unpacking python-apt-common (1.4.0~beta3build2) ...\n",
            "Selecting previously unselected package python3-apt.\n",
            "Preparing to unpack .../14-python3-apt_1.4.0~beta3build2_amd64.deb ...\n",
            "Unpacking python3-apt (1.4.0~beta3build2) ...\n",
            "Selecting previously unselected package python3-dbus.\n",
            "Preparing to unpack .../15-python3-dbus_1.2.4-1build3_amd64.deb ...\n",
            "Unpacking python3-dbus (1.2.4-1build3) ...\n",
            "Selecting previously unselected package python3-gi.\n",
            "Preparing to unpack .../16-python3-gi_3.24.1-2build1_amd64.deb ...\n",
            "Unpacking python3-gi (3.24.1-2build1) ...\n",
            "Selecting previously unselected package module-init-tools.\n",
            "Preparing to unpack .../17-module-init-tools_24-1ubuntu2_all.deb ...\n",
            "Unpacking module-init-tools (24-1ubuntu2) ...\n",
            "Selecting previously unselected package python-apt.\n",
            "Preparing to unpack .../18-python-apt_1.4.0~beta3build2_amd64.deb ...\n",
            "Unpacking python-apt (1.4.0~beta3build2) ...\n",
            "Selecting previously unselected package python-pycurl.\n",
            "Preparing to unpack .../19-python-pycurl_7.43.0-2build2_amd64.deb ...\n",
            "Unpacking python-pycurl (7.43.0-2build2) ...\n",
            "Selecting previously unselected package python-software-properties.\n",
            "Preparing to unpack .../20-python-software-properties_0.96.24.17_all.deb ...\n",
            "Unpacking python-software-properties (0.96.24.17) ...\n",
            "Selecting previously unselected package python3-software-properties.\n",
            "Preparing to unpack .../21-python3-software-properties_0.96.24.17_all.deb ...\n",
            "Unpacking python3-software-properties (0.96.24.17) ...\n",
            "Selecting previously unselected package software-properties-common.\n",
            "Preparing to unpack .../22-software-properties-common_0.96.24.17_all.deb ...\n",
            "Unpacking software-properties-common (0.96.24.17) ...\n",
            "Selecting previously unselected package unattended-upgrades.\n",
            "Preparing to unpack .../23-unattended-upgrades_0.98ubuntu1.1_all.deb ...\n",
            "Unpacking unattended-upgrades (0.98ubuntu1.1) ...\n",
            "Setting up python-apt-common (1.4.0~beta3build2) ...\n",
            "Setting up python3-apt (1.4.0~beta3build2) ...\n",
            "Setting up iso-codes (3.75-1) ...\n",
            "Setting up distro-info-data (0.36ubuntu0.2) ...\n",
            "Setting up python-pycurl (7.43.0-2build2) ...\n",
            "Setting up lsb-release (9.20160110ubuntu5) ...\n",
            "Setting up libgirepository-1.0-1:amd64 (1.54.1-1) ...\n",
            "Setting up libkmod2:amd64 (24-1ubuntu2) ...\n",
            "Setting up gir1.2-glib-2.0:amd64 (1.54.1-1) ...\n",
            "Processing triggers for libc-bin (2.26-0ubuntu2.1) ...\n",
            "Setting up libapparmor1:amd64 (2.11.0-2ubuntu17.1) ...\n",
            "Setting up unattended-upgrades (0.98ubuntu1.1) ...\n",
            "\n",
            "Creating config file /etc/apt/apt.conf.d/20auto-upgrades with new version\n",
            "\n",
            "Creating config file /etc/apt/apt.conf.d/50unattended-upgrades with new version\n",
            "invoke-rc.d: could not determine current runlevel\n",
            "invoke-rc.d: policy-rc.d denied execution of start.\n",
            "Setting up dirmngr (2.1.15-1ubuntu8.1) ...\n",
            "Setting up cron (3.0pl1-128ubuntu5) ...\n",
            "Adding group `crontab' (GID 102) ...\n",
            "Done.\n",
            "update-rc.d: warning: start and stop actions are no longer supported; falling back to defaults\n",
            "update-rc.d: warning: stop runlevel arguments (1) do not match cron Default-Stop values (none)\n",
            "invoke-rc.d: could not determine current runlevel\n",
            "invoke-rc.d: policy-rc.d denied execution of start.\n",
            "Setting up libdbus-1-3:amd64 (1.10.22-1ubuntu1) ...\n",
            "Setting up kmod (24-1ubuntu2) ...\n",
            "Setting up libdbus-glib-1-2:amd64 (0.108-2) ...\n",
            "Setting up python3-gi (3.24.1-2build1) ...\n",
            "Setting up module-init-tools (24-1ubuntu2) ...\n",
            "Setting up python3-software-properties (0.96.24.17) ...\n",
            "Setting up dbus (1.10.22-1ubuntu1) ...\n",
            "Setting up python-apt (1.4.0~beta3build2) ...\n",
            "Setting up python3-dbus (1.2.4-1build3) ...\n",
            "Setting up python-software-properties (0.96.24.17) ...\n",
            "Setting up software-properties-common (0.96.24.17) ...\n",
            "Processing triggers for libc-bin (2.26-0ubuntu2.1) ...\n",
            "Processing triggers for dbus (1.10.22-1ubuntu1) ...\n",
            "gpg: keybox '/tmp/tmptgvpuvb7/pubring.gpg' created\n",
            "gpg: /tmp/tmptgvpuvb7/trustdb.gpg: trustdb created\n",
            "gpg: key AD5F235DF639B041: public key \"Launchpad PPA for Alessandro Strada\" imported\n",
            "gpg: Total number processed: 1\n",
            "gpg:               imported: 1\n",
            "Warning: apt-key output should not be parsed (stdout is not a terminal)\n",
            "Selecting previously unselected package libfuse2:amd64.\n",
            "(Reading database ... 19816 files and directories currently installed.)\n",
            "Preparing to unpack .../libfuse2_2.9.7-1ubuntu1_amd64.deb ...\n",
            "Unpacking libfuse2:amd64 (2.9.7-1ubuntu1) ...\n",
            "Selecting previously unselected package fuse.\n",
            "Preparing to unpack .../fuse_2.9.7-1ubuntu1_amd64.deb ...\n",
            "Unpacking fuse (2.9.7-1ubuntu1) ...\n",
            "Selecting previously unselected package google-drive-ocamlfuse.\n",
            "Preparing to unpack .../google-drive-ocamlfuse_0.6.21-0ubuntu2_amd64.deb ...\n",
            "Unpacking google-drive-ocamlfuse (0.6.21-0ubuntu2) ...\n",
            "Setting up libfuse2:amd64 (2.9.7-1ubuntu1) ...\n",
            "Processing triggers for libc-bin (2.26-0ubuntu2.1) ...\n",
            "Setting up fuse (2.9.7-1ubuntu1) ...\n",
            "Setting up google-drive-ocamlfuse (0.6.21-0ubuntu2) ...\n"
          ],
          "name": "stdout"
        }
      ]
    },
    {
      "metadata": {
        "id": "lV0FxV0w7f74",
        "colab_type": "code",
        "colab": {}
      },
      "cell_type": "code",
      "source": [
        "\n",
        "# Generate auth tokens for Colab\n",
        "from google.colab import auth\n",
        "auth.authenticate_user()"
      ],
      "execution_count": 0,
      "outputs": []
    },
    {
      "metadata": {
        "id": "xEWFaLLb7g-e",
        "colab_type": "code",
        "colab": {
          "base_uri": "https://localhost:8080/",
          "height": 105
        },
        "outputId": "95109a9e-8a00-46b5-ba89-90c167290b71"
      },
      "cell_type": "code",
      "source": [
        "\n",
        "# Generate creds for the Drive FUSE library.\n",
        "from oauth2client.client import GoogleCredentials\n",
        "creds = GoogleCredentials.get_application_default()\n",
        "import getpass\n",
        "!google-drive-ocamlfuse -headless -id={creds.client_id} -secret={creds.client_secret} < /dev/null 2>&1 | grep URL\n",
        "vcode = getpass.getpass()\n",
        "!echo {vcode} | google-drive-ocamlfuse -headless -id={creds.client_id} -secret={creds.client_secret}\n"
      ],
      "execution_count": 3,
      "outputs": [
        {
          "output_type": "stream",
          "text": [
            "Please, open the following URL in a web browser: https://accounts.google.com/o/oauth2/auth?client_id=32555940559.apps.googleusercontent.com&redirect_uri=urn%3Aietf%3Awg%3Aoauth%3A2.0%3Aoob&scope=https%3A%2F%2Fwww.googleapis.com%2Fauth%2Fdrive&response_type=code&access_type=offline&approval_prompt=force\r\n",
            "··········\n",
            "Please, open the following URL in a web browser: https://accounts.google.com/o/oauth2/auth?client_id=32555940559.apps.googleusercontent.com&redirect_uri=urn%3Aietf%3Awg%3Aoauth%3A2.0%3Aoob&scope=https%3A%2F%2Fwww.googleapis.com%2Fauth%2Fdrive&response_type=code&access_type=offline&approval_prompt=force\n",
            "Please enter the verification code: Access token retrieved correctly.\n"
          ],
          "name": "stdout"
        }
      ]
    },
    {
      "metadata": {
        "id": "dmIp5UeF7hFY",
        "colab_type": "code",
        "colab": {
          "base_uri": "https://localhost:8080/",
          "height": 85
        },
        "outputId": "8f8f4ce6-6624-466c-e202-0dcb59434f7b"
      },
      "cell_type": "code",
      "source": [
        "\n",
        "!mkdir -p drive\n",
        "!google-drive-ocamlfuse drive\n",
        "!ls drive"
      ],
      "execution_count": 4,
      "outputs": [
        {
          "output_type": "stream",
          "text": [
            "aoi_aoi_test1.ipynb  PiXNet\t\t\t\t      test for excel\r\n",
            "aoi_test\t     Sample upload.txt\t\t\t      Untitled0.ipynb\r\n",
            "Colab Notebooks      TAHU PowerPoint Template.pdf\t      Untitled1.ipynb\r\n",
            "kaggle\t\t     TAHU PowerPoint Template - 柱狀圖 1.ods\r\n"
          ],
          "name": "stdout"
        }
      ]
    },
    {
      "metadata": {
        "id": "KEjxtP3O7hJy",
        "colab_type": "code",
        "colab": {
          "base_uri": "https://localhost:8080/",
          "height": 34
        },
        "outputId": "6276eb4e-91dc-41d6-b303-a268b2cc50f4"
      },
      "cell_type": "code",
      "source": [
        "cd drive/kaggle/predict_sales"
      ],
      "execution_count": 10,
      "outputs": [
        {
          "output_type": "stream",
          "text": [
            "/content/drive/kaggle/predict_sales\n"
          ],
          "name": "stdout"
        }
      ]
    },
    {
      "metadata": {
        "id": "-oD-jmNZLEGV",
        "colab_type": "code",
        "colab": {
          "base_uri": "https://localhost:8080/",
          "height": 102
        },
        "outputId": "f61d40cf-6b07-4482-bec3-404753271f3b"
      },
      "cell_type": "code",
      "source": [
        "!ls"
      ],
      "execution_count": 43,
      "outputs": [
        {
          "output_type": "stream",
          "text": [
            "data.zip\t     predict_sales_first_try.h5  shops.csv\r\n",
            "item_categories.csv  sales_first_try.ipynb\t test.csv\r\n",
            "items.csv\t     sales_train.csv\t\t train_data.npy\r\n",
            "label_data.npy\t     sales_train.csv.gz\t\t Untitled0.ipynb\r\n",
            "prediction.npy\t     sample_submission.csv\t Untitled.ipynb\r\n"
          ],
          "name": "stdout"
        }
      ]
    },
    {
      "metadata": {
        "id": "mLgGNvqD7hNN",
        "colab_type": "code",
        "colab": {
          "base_uri": "https://localhost:8080/",
          "height": 68
        },
        "outputId": "784e602b-0296-405d-ff23-c8891d693f66"
      },
      "cell_type": "code",
      "source": [
        "!unzip data.zip"
      ],
      "execution_count": 12,
      "outputs": [
        {
          "output_type": "stream",
          "text": [
            "Archive:  data.zip\n",
            "  inflating: train_data.npy          \n",
            "  inflating: label_data.npy          \n"
          ],
          "name": "stdout"
        }
      ]
    },
    {
      "metadata": {
        "id": "JTzB9BRU7hQO",
        "colab_type": "code",
        "colab": {}
      },
      "cell_type": "code",
      "source": [
        ""
      ],
      "execution_count": 0,
      "outputs": []
    },
    {
      "metadata": {
        "id": "_82YG-wM7hVI",
        "colab_type": "code",
        "colab": {}
      },
      "cell_type": "code",
      "source": [
        ""
      ],
      "execution_count": 0,
      "outputs": []
    },
    {
      "metadata": {
        "id": "22gAP7d67hYN",
        "colab_type": "code",
        "colab": {
          "base_uri": "https://localhost:8080/",
          "height": 34
        },
        "outputId": "f71f7880-5fa4-4307-b31d-8403801b4835"
      },
      "cell_type": "code",
      "source": [
        "import numpy as np\n",
        "import matplotlib.pyplot as plt\n",
        "import keras.backend as K\n",
        "import tensorflow as tf\n",
        "import subprocess\n",
        "import os\n",
        "import pickle\n",
        "from keras.layers import Input, Conv2D, MaxPooling2D, merge, Lambda,UpSampling2D, concatenate, Conv2DTranspose\n",
        "from keras.models import Model, load_model\n",
        "import pandas as pd\n",
        "import sklearn \n",
        "from sklearn.preprocessing import OneHotEncoder\n",
        "from sklearn.model_selection import train_test_split\n",
        "from sklearn.preprocessing import normalize\n",
        "from keras.callbacks import ModelCheckpoint, EarlyStopping\n",
        "from keras import regularizers"
      ],
      "execution_count": 1,
      "outputs": [
        {
          "output_type": "stream",
          "text": [
            "Using TensorFlow backend.\n"
          ],
          "name": "stderr"
        }
      ]
    },
    {
      "metadata": {
        "id": "W9g94EU-7hTQ",
        "colab_type": "code",
        "colab": {}
      },
      "cell_type": "code",
      "source": [
        ""
      ],
      "execution_count": 0,
      "outputs": []
    },
    {
      "metadata": {
        "id": "az7F8Ss_7bgA",
        "colab_type": "code",
        "colab": {}
      },
      "cell_type": "code",
      "source": [
        "train_df = pd.read_csv('sales_train.csv')"
      ],
      "execution_count": 0,
      "outputs": []
    },
    {
      "metadata": {
        "id": "zznRyQct7bgE",
        "colab_type": "code",
        "colab": {}
      },
      "cell_type": "code",
      "source": [
        "items = pd.read_csv('items.csv')\n",
        "item_cat = pd.read_csv('item_categories.csv')"
      ],
      "execution_count": 0,
      "outputs": []
    },
    {
      "metadata": {
        "id": "FjdI9uXc7bgG",
        "colab_type": "code",
        "colab": {}
      },
      "cell_type": "code",
      "source": [
        ""
      ],
      "execution_count": 0,
      "outputs": []
    },
    {
      "metadata": {
        "id": "LdmiAZDz7bgJ",
        "colab_type": "code",
        "colab": {
          "base_uri": "https://localhost:8080/",
          "height": 34
        },
        "outputId": "74e15f04-e3ee-4b02-ba29-d25671494aae"
      },
      "cell_type": "code",
      "source": [
        "item_list = list(set(train_df['item_id'].tolist()))\n",
        "len(list(item_list)) > len(set(item_list))"
      ],
      "execution_count": 27,
      "outputs": [
        {
          "output_type": "execute_result",
          "data": {
            "text/plain": [
              "False"
            ]
          },
          "metadata": {
            "tags": []
          },
          "execution_count": 27
        }
      ]
    },
    {
      "metadata": {
        "id": "uIbVx7vL7bgO",
        "colab_type": "code",
        "colab": {
          "base_uri": "https://localhost:8080/",
          "height": 34
        },
        "outputId": "44f3b3b7-fcfd-419a-842b-e266e0793550"
      },
      "cell_type": "code",
      "source": [
        "len(item_list)"
      ],
      "execution_count": 28,
      "outputs": [
        {
          "output_type": "execute_result",
          "data": {
            "text/plain": [
              "21807"
            ]
          },
          "metadata": {
            "tags": []
          },
          "execution_count": 28
        }
      ]
    },
    {
      "metadata": {
        "id": "m2GlMZZW7bgR",
        "colab_type": "code",
        "colab": {
          "base_uri": "https://localhost:8080/",
          "height": 51
        },
        "outputId": "f527f592-bf74-458f-eaae-402e4de121ed"
      },
      "cell_type": "code",
      "source": [
        "\n",
        "shop_list = list(set(train_df['shop_id'].tolist()))\n",
        "print (len(list(shop_list)) > len(set(shop_list)))\n",
        "len(shop_list)"
      ],
      "execution_count": 29,
      "outputs": [
        {
          "output_type": "stream",
          "text": [
            "False\n"
          ],
          "name": "stdout"
        },
        {
          "output_type": "execute_result",
          "data": {
            "text/plain": [
              "60"
            ]
          },
          "metadata": {
            "tags": []
          },
          "execution_count": 29
        }
      ]
    },
    {
      "metadata": {
        "id": "uuFQscIE7bgV",
        "colab_type": "code",
        "colab": {
          "base_uri": "https://localhost:8080/",
          "height": 34
        },
        "outputId": "c623c275-000e-4172-a978-f1d64e989940"
      },
      "cell_type": "code",
      "source": [
        "train_df['date_block_num'].max()"
      ],
      "execution_count": 30,
      "outputs": [
        {
          "output_type": "execute_result",
          "data": {
            "text/plain": [
              "33"
            ]
          },
          "metadata": {
            "tags": []
          },
          "execution_count": 30
        }
      ]
    },
    {
      "metadata": {
        "id": "JujhC1Tf7bgg",
        "colab_type": "code",
        "colab": {
          "base_uri": "https://localhost:8080/",
          "height": 34
        },
        "outputId": "d646a13a-fbc2-462c-9e4a-210fc2fd178d"
      },
      "cell_type": "code",
      "source": [
        "np_train = []\n",
        "\n",
        "for i in range(34):\n",
        "    grand_df = pd.DataFrame(0,index=item_list, columns=shop_list)\n",
        "    try_df = train_df.loc[train_df['date_block_num']== i ,:]\n",
        "    try_df = try_df.pivot_table(index='item_id', columns='shop_id', values='item_cnt_day', aggfunc = np.sum, fill_value=0)\n",
        " \n",
        "    grand_df.update(try_df)\n",
        "    \n",
        "    #print ('i=', i, 'sum=', grand_df.sum().sum())\n",
        "    month_values= grand_df.values\n",
        "    month_values=month_values[np.newaxis,:,:]\n",
        "    np_train.append(month_values)\n",
        "\n",
        "np_train = np.concatenate(np_train, axis=0)\n",
        "np_train.shape"
      ],
      "execution_count": 32,
      "outputs": [
        {
          "output_type": "execute_result",
          "data": {
            "text/plain": [
              "(34, 21807, 60)"
            ]
          },
          "metadata": {
            "tags": []
          },
          "execution_count": 32
        }
      ]
    },
    {
      "metadata": {
        "id": "WRtpRysB7bgq",
        "colab_type": "code",
        "colab": {}
      },
      "cell_type": "code",
      "source": [
        "def shuffle_cnn(length,window,original):\n",
        "    train_list = []\n",
        "    label_list = []\n",
        "    b_s = int(np.floor(length/window))\n",
        "\n",
        "    for i in range(length-window):\n",
        "\n",
        "        train_list.append(original[i:i+window,:,:])\n",
        "        label_list.append(original[i+window,:,:])\n",
        "    return train_list, label_list\n",
        "\n"
      ],
      "execution_count": 0,
      "outputs": []
    },
    {
      "metadata": {
        "id": "63Eb8tUK7bgu",
        "colab_type": "code",
        "colab": {}
      },
      "cell_type": "code",
      "source": [
        ""
      ],
      "execution_count": 0,
      "outputs": []
    },
    {
      "metadata": {
        "id": "EkKjgX5z7bgx",
        "colab_type": "code",
        "colab": {}
      },
      "cell_type": "code",
      "source": [
        "window = 5 \n",
        "length = 34\n",
        "train_list, label_list = shuffle_cnn(length,window,np_train)\n",
        "\n"
      ],
      "execution_count": 0,
      "outputs": []
    },
    {
      "metadata": {
        "id": "E_Nj7nrr7bg0",
        "colab_type": "code",
        "colab": {},
        "outputId": "75830f77-0852-4dd3-a5e5-ea942d369800"
      },
      "cell_type": "code",
      "source": [
        "train_data = np.stack(train_list)\n",
        "train_data=train_data.transpose(0,2,3,1)\n",
        "label_data = np.stack(label_list)\n",
        "label_data = label_data[:,:,:,np.newaxis]\n",
        "print (train_data.shape)\n",
        "print (label_data.shape)"
      ],
      "execution_count": 0,
      "outputs": [
        {
          "output_type": "stream",
          "text": [
            "(29, 21807, 60, 5)\n",
            "(29, 21807, 60, 1)\n"
          ],
          "name": "stdout"
        }
      ]
    },
    {
      "metadata": {
        "id": "NvWS9KMC7bg7",
        "colab_type": "code",
        "colab": {}
      },
      "cell_type": "code",
      "source": [
        "\n",
        "np.save('train_data.npy',train_data)\n",
        "np.save('label_data.npy', label_data)"
      ],
      "execution_count": 0,
      "outputs": []
    },
    {
      "metadata": {
        "id": "tFwcaOyc7bg-",
        "colab_type": "text"
      },
      "cell_type": "markdown",
      "source": [
        "# Starts from here if train data ready\n",
        "==="
      ]
    },
    {
      "metadata": {
        "id": "C0GN9C_v7bg_",
        "colab_type": "code",
        "colab": {}
      },
      "cell_type": "code",
      "source": [
        "train_data = np.load('train_data.npy')\n",
        "label_data = np.load('label_data.npy')"
      ],
      "execution_count": 0,
      "outputs": []
    },
    {
      "metadata": {
        "id": "pMHf-Tl77bhC",
        "colab_type": "code",
        "colab": {
          "base_uri": "https://localhost:8080/",
          "height": 51
        },
        "outputId": "76f2674d-ab35-446e-df96-2d17fd3d8cc0"
      },
      "cell_type": "code",
      "source": [
        "\n",
        "train_x,val_x,train_y,val_y = train_test_split(train_data,label_data, test_size = 0.2, shuffle=True)\n",
        "\n",
        "print (train_x.shape)\n",
        "print (train_y.shape)\n",
        "\n",
        "\n",
        "\n",
        "\n"
      ],
      "execution_count": 15,
      "outputs": [
        {
          "output_type": "stream",
          "text": [
            "(23, 21807, 60, 5)\n",
            "(23, 21807, 60, 1)\n"
          ],
          "name": "stdout"
        }
      ]
    },
    {
      "metadata": {
        "id": "UrNsaBpS7bhF",
        "colab_type": "code",
        "colab": {}
      },
      "cell_type": "code",
      "source": [
        "\n",
        "def conv_block(ch, activation= 'relu', padding='same',kernel_regularizer=regularizers.l2(0.01)):       \n",
        "    return Conv2D(ch,(3,3),activation= activation, padding =padding )\n"
      ],
      "execution_count": 0,
      "outputs": []
    },
    {
      "metadata": {
        "id": "9EAg-lDP7bhL",
        "colab_type": "code",
        "colab": {}
      },
      "cell_type": "code",
      "source": [
        "input_size = (21807,60,5)\n",
        "def build_model(ch=4): \n",
        "    inputs = Input(shape= input_size)\n",
        "    #reshape_inputs = Permute((2,3,1),input_shape=(5,21807,60))(inputs)\n",
        "    x = Conv2D(32,(3,3),padding='same',activation='relu')(inputs)\n",
        "    x = Conv2D(32,(3,3),padding='same',activation='relu')(x)\n",
        "    x = Conv2D(256,(364,1),strides=(364,1),padding='same',activation='relu')(x)\n",
        "    \n",
        "    \n",
        "    conv1 =  conv_block(ch)(x)\n",
        "    conv1 = conv_block(ch)(conv1)\n",
        "    pool1 = MaxPooling2D(pool_size=(2,2))(conv1)\n",
        "    print ('pool1',pool1.get_shape())\n",
        "    \n",
        "    conv2 =  conv_block(ch*2)(pool1)\n",
        "    conv2 = conv_block(ch*2)(conv2)\n",
        "    pool2 = MaxPooling2D(pool_size=(2,2))(conv2)\n",
        "    print ('poo12',pool2.get_shape())\n",
        "    \n",
        "    conv_test = Conv2D(64,(2,2),padding='valid')(pool2)\n",
        "    print ('conv_test',conv_test.get_shape())\n",
        "    \n",
        "    \n",
        "    \n",
        "    conv3 =  conv_block(ch*4)(pool2)\n",
        "    conv3 = conv_block(ch*4)(conv3)\n",
        "    print ('conv3',conv3.get_shape())\n",
        "    pool3 = MaxPooling2D(pool_size=(2,2))(conv3)\n",
        "    print ('poo13',pool3.get_shape())\n",
        "    \n",
        "    conv4 =  conv_block(ch*8)(pool3)\n",
        "    conv4_1 = Conv2D(ch*8,(2,2),padding='valid',activation='relu')(conv4)\n",
        "    conv4 = conv_block(ch*8)(conv4)\n",
        "    pool4 = MaxPooling2D(pool_size=(2,2))(conv4)\n",
        "    print ('poo14',pool4.get_shape())\n",
        "    \n",
        "    conv5 =  conv_block(ch*16)(pool4)\n",
        "    conv5 = conv_block(ch*16)(conv5)\n",
        "    print ('conv5',conv5.get_shape())\n",
        "    \n",
        "    up6 = concatenate([UpSampling2D(size=(2,2))(conv5), conv4_1], axis=3)\n",
        "    conv6 = conv_block(ch*8)(up6)\n",
        "    conv6 = conv_block(ch*8)(conv6)\n",
        "    print ('conv6',conv6.get_shape())\n",
        "    \n",
        "    up7 = UpSampling2D(size=(3,3))(conv6)\n",
        "    up7_1=  Conv2D(ch*8,(4,4),padding='valid',activation='relu')(up7)\n",
        "    print ('up7_1',up7_1.get_shape())\n",
        "    up7_2 = concatenate ([up7_1, conv3],  axis=3)\n",
        "    conv7 = conv_block(ch*4)(up7_2)\n",
        "    conv7 = conv_block(ch*4)(conv7)\n",
        "    print ('conv7',conv7.get_shape())\n",
        "    \n",
        "    conv7 = Conv2DTranspose(ch*4,(3,3),strides=(4,4),padding='valid')(conv7)\n",
        "    print ('conv7',conv7.get_shape())\n",
        "    \n",
        "    \n",
        "    conv8 = Conv2DTranspose(32,(363,1),strides=(363,1),padding='same',activation='relu')(conv7)\n",
        "    conv9 = Conv2DTranspose(32,(28,1),strides=(1,1),padding='valid',activation='relu')(conv8)\n",
        "    outputs = Conv2D(1,(1,1),strides=(1,1),padding='valid',activation='relu')(conv9)\n",
        "    \n",
        "    model = Model(inputs=inputs, outputs=outputs)\n",
        "    model.summary()\n",
        "    return model\n",
        "\n",
        "    "
      ],
      "execution_count": 0,
      "outputs": []
    },
    {
      "metadata": {
        "id": "yod7j6bF7bhO",
        "colab_type": "code",
        "colab": {
          "base_uri": "https://localhost:8080/",
          "height": 1445
        },
        "outputId": "b499e43c-42e7-46ee-dcbc-0b15a4c4eb57"
      },
      "cell_type": "code",
      "source": [
        "model = build_model()"
      ],
      "execution_count": 18,
      "outputs": [
        {
          "output_type": "stream",
          "text": [
            "pool1 (?, 30, 30, 4)\n",
            "poo12 (?, 15, 15, 8)\n",
            "conv_test (?, 14, 14, 64)\n",
            "conv3 (?, 15, 15, 16)\n",
            "poo13 (?, 7, 7, 16)\n",
            "poo14 (?, 3, 3, 32)\n",
            "conv5 (?, 3, 3, 64)\n",
            "conv6 (?, 6, 6, 32)\n",
            "up7_1 (?, 15, 15, 32)\n",
            "conv7 (?, 15, 15, 16)\n",
            "conv7 (?, ?, ?, 16)\n",
            "__________________________________________________________________________________________________\n",
            "Layer (type)                    Output Shape         Param #     Connected to                     \n",
            "==================================================================================================\n",
            "input_1 (InputLayer)            (None, 21807, 60, 5) 0                                            \n",
            "__________________________________________________________________________________________________\n",
            "conv2d_1 (Conv2D)               (None, 21807, 60, 32 1472        input_1[0][0]                    \n",
            "__________________________________________________________________________________________________\n",
            "conv2d_2 (Conv2D)               (None, 21807, 60, 32 9248        conv2d_1[0][0]                   \n",
            "__________________________________________________________________________________________________\n",
            "conv2d_3 (Conv2D)               (None, 60, 60, 256)  2982144     conv2d_2[0][0]                   \n",
            "__________________________________________________________________________________________________\n",
            "conv2d_4 (Conv2D)               (None, 60, 60, 4)    9220        conv2d_3[0][0]                   \n",
            "__________________________________________________________________________________________________\n",
            "conv2d_5 (Conv2D)               (None, 60, 60, 4)    148         conv2d_4[0][0]                   \n",
            "__________________________________________________________________________________________________\n",
            "max_pooling2d_1 (MaxPooling2D)  (None, 30, 30, 4)    0           conv2d_5[0][0]                   \n",
            "__________________________________________________________________________________________________\n",
            "conv2d_6 (Conv2D)               (None, 30, 30, 8)    296         max_pooling2d_1[0][0]            \n",
            "__________________________________________________________________________________________________\n",
            "conv2d_7 (Conv2D)               (None, 30, 30, 8)    584         conv2d_6[0][0]                   \n",
            "__________________________________________________________________________________________________\n",
            "max_pooling2d_2 (MaxPooling2D)  (None, 15, 15, 8)    0           conv2d_7[0][0]                   \n",
            "__________________________________________________________________________________________________\n",
            "conv2d_9 (Conv2D)               (None, 15, 15, 16)   1168        max_pooling2d_2[0][0]            \n",
            "__________________________________________________________________________________________________\n",
            "conv2d_10 (Conv2D)              (None, 15, 15, 16)   2320        conv2d_9[0][0]                   \n",
            "__________________________________________________________________________________________________\n",
            "max_pooling2d_3 (MaxPooling2D)  (None, 7, 7, 16)     0           conv2d_10[0][0]                  \n",
            "__________________________________________________________________________________________________\n",
            "conv2d_11 (Conv2D)              (None, 7, 7, 32)     4640        max_pooling2d_3[0][0]            \n",
            "__________________________________________________________________________________________________\n",
            "conv2d_13 (Conv2D)              (None, 7, 7, 32)     9248        conv2d_11[0][0]                  \n",
            "__________________________________________________________________________________________________\n",
            "max_pooling2d_4 (MaxPooling2D)  (None, 3, 3, 32)     0           conv2d_13[0][0]                  \n",
            "__________________________________________________________________________________________________\n",
            "conv2d_14 (Conv2D)              (None, 3, 3, 64)     18496       max_pooling2d_4[0][0]            \n",
            "__________________________________________________________________________________________________\n",
            "conv2d_15 (Conv2D)              (None, 3, 3, 64)     36928       conv2d_14[0][0]                  \n",
            "__________________________________________________________________________________________________\n",
            "up_sampling2d_1 (UpSampling2D)  (None, 6, 6, 64)     0           conv2d_15[0][0]                  \n",
            "__________________________________________________________________________________________________\n",
            "conv2d_12 (Conv2D)              (None, 6, 6, 32)     4128        conv2d_11[0][0]                  \n",
            "__________________________________________________________________________________________________\n",
            "concatenate_1 (Concatenate)     (None, 6, 6, 96)     0           up_sampling2d_1[0][0]            \n",
            "                                                                 conv2d_12[0][0]                  \n",
            "__________________________________________________________________________________________________\n",
            "conv2d_16 (Conv2D)              (None, 6, 6, 32)     27680       concatenate_1[0][0]              \n",
            "__________________________________________________________________________________________________\n",
            "conv2d_17 (Conv2D)              (None, 6, 6, 32)     9248        conv2d_16[0][0]                  \n",
            "__________________________________________________________________________________________________\n",
            "up_sampling2d_2 (UpSampling2D)  (None, 18, 18, 32)   0           conv2d_17[0][0]                  \n",
            "__________________________________________________________________________________________________\n",
            "conv2d_18 (Conv2D)              (None, 15, 15, 32)   16416       up_sampling2d_2[0][0]            \n",
            "__________________________________________________________________________________________________\n",
            "concatenate_2 (Concatenate)     (None, 15, 15, 48)   0           conv2d_18[0][0]                  \n",
            "                                                                 conv2d_10[0][0]                  \n",
            "__________________________________________________________________________________________________\n",
            "conv2d_19 (Conv2D)              (None, 15, 15, 16)   6928        concatenate_2[0][0]              \n",
            "__________________________________________________________________________________________________\n",
            "conv2d_20 (Conv2D)              (None, 15, 15, 16)   2320        conv2d_19[0][0]                  \n",
            "__________________________________________________________________________________________________\n",
            "conv2d_transpose_1 (Conv2DTrans (None, 60, 60, 16)   2320        conv2d_20[0][0]                  \n",
            "__________________________________________________________________________________________________\n",
            "conv2d_transpose_2 (Conv2DTrans (None, 21780, 60, 32 185888      conv2d_transpose_1[0][0]         \n",
            "__________________________________________________________________________________________________\n",
            "conv2d_transpose_3 (Conv2DTrans (None, 21807, 60, 32 28704       conv2d_transpose_2[0][0]         \n",
            "__________________________________________________________________________________________________\n",
            "conv2d_21 (Conv2D)              (None, 21807, 60, 1) 33          conv2d_transpose_3[0][0]         \n",
            "==================================================================================================\n",
            "Total params: 3,359,577\n",
            "Trainable params: 3,359,577\n",
            "Non-trainable params: 0\n",
            "__________________________________________________________________________________________________\n"
          ],
          "name": "stdout"
        }
      ]
    },
    {
      "metadata": {
        "id": "N3Y4zBKS7bhS",
        "colab_type": "code",
        "colab": {}
      },
      "cell_type": "code",
      "source": [
        "model.compile(optimizer='Adam',loss='mse')\n",
        "\n",
        "\n"
      ],
      "execution_count": 0,
      "outputs": []
    },
    {
      "metadata": {
        "id": "8xEgiTVg_7w-",
        "colab_type": "code",
        "colab": {
          "base_uri": "https://localhost:8080/",
          "height": 34
        },
        "outputId": "8992956b-871d-4a12-e0f9-2fc0d50feaff"
      },
      "cell_type": "code",
      "source": [
        "!pwd"
      ],
      "execution_count": 21,
      "outputs": [
        {
          "output_type": "stream",
          "text": [
            "/content/drive/kaggle/predict_sales\r\n"
          ],
          "name": "stdout"
        }
      ]
    },
    {
      "metadata": {
        "id": "-WSXiZIk7bhV",
        "colab_type": "code",
        "colab": {
          "base_uri": "https://localhost:8080/",
          "height": 1955
        },
        "outputId": "ecd4841f-5e63-455c-94d5-b88004ea8332"
      },
      "cell_type": "code",
      "source": [
        "src=''\n",
        "checkpoint = ModelCheckpoint(filepath=src+'predict_sales_first_try.h5', monitor = 'val_loss', save_best_only=True, mode= 'auto')\n",
        "earlystop = EarlyStopping(patience=10)\n",
        "callback_list = [checkpoint, earlystop]\n",
        "model.fit(x=train_x, y=train_y, batch_size=4, epochs=300, callbacks = callback_list, verbose=1, validation_split=0.2,  shuffle=True)\n"
      ],
      "execution_count": 22,
      "outputs": [
        {
          "output_type": "stream",
          "text": [
            "Train on 18 samples, validate on 5 samples\n",
            "Epoch 1/300\n",
            "18/18 [==============================] - 9s 477ms/step - loss: 3.4132 - val_loss: 1.5787\n",
            "Epoch 2/300\n",
            "18/18 [==============================] - 8s 472ms/step - loss: 3.3732 - val_loss: 1.3992\n",
            "Epoch 3/300\n",
            "18/18 [==============================] - 8s 466ms/step - loss: 3.0457 - val_loss: 1.4944\n",
            "Epoch 4/300\n",
            "18/18 [==============================] - 8s 460ms/step - loss: 3.0983 - val_loss: 1.3163\n",
            "Epoch 5/300\n",
            "18/18 [==============================] - 8s 471ms/step - loss: 2.9412 - val_loss: 1.4692\n",
            "Epoch 6/300\n",
            "18/18 [==============================] - 8s 459ms/step - loss: 2.9188 - val_loss: 1.2711\n",
            "Epoch 7/300\n",
            "18/18 [==============================] - 8s 463ms/step - loss: 2.8717 - val_loss: 1.3044\n",
            "Epoch 8/300\n",
            "18/18 [==============================] - 8s 460ms/step - loss: 2.7861 - val_loss: 1.2238\n",
            "Epoch 9/300\n",
            "18/18 [==============================] - 8s 471ms/step - loss: 2.7686 - val_loss: 1.2685\n",
            "Epoch 10/300\n",
            "18/18 [==============================] - 8s 458ms/step - loss: 2.7027 - val_loss: 1.1601\n",
            "Epoch 11/300\n",
            "18/18 [==============================] - 8s 464ms/step - loss: 2.6452 - val_loss: 1.2940\n",
            "Epoch 12/300\n",
            "18/18 [==============================] - 8s 459ms/step - loss: 2.6525 - val_loss: 1.1472\n",
            "Epoch 13/300\n",
            "18/18 [==============================] - 8s 469ms/step - loss: 2.6045 - val_loss: 1.6728\n",
            "Epoch 14/300\n",
            "18/18 [==============================] - 8s 457ms/step - loss: 2.6270 - val_loss: 1.1355\n",
            "Epoch 15/300\n",
            "18/18 [==============================] - 8s 463ms/step - loss: 2.7217 - val_loss: 1.1175\n",
            "Epoch 16/300\n",
            "18/18 [==============================] - 8s 469ms/step - loss: 2.6065 - val_loss: 1.1114\n",
            "Epoch 17/300\n",
            "18/18 [==============================] - 8s 458ms/step - loss: 2.5257 - val_loss: 1.1061\n",
            "Epoch 18/300\n",
            "18/18 [==============================] - 8s 464ms/step - loss: 2.4893 - val_loss: 1.1318\n",
            "Epoch 19/300\n",
            "18/18 [==============================] - 8s 458ms/step - loss: 2.4744 - val_loss: 1.1076\n",
            "Epoch 20/300\n",
            "18/18 [==============================] - 8s 457ms/step - loss: 2.4570 - val_loss: 1.0899\n",
            "Epoch 21/300\n",
            "18/18 [==============================] - 8s 467ms/step - loss: 2.4583 - val_loss: 1.0803\n",
            "Epoch 22/300\n",
            "18/18 [==============================] - 8s 461ms/step - loss: 2.4517 - val_loss: 1.1021\n",
            "Epoch 23/300\n",
            "18/18 [==============================] - 8s 457ms/step - loss: 2.4595 - val_loss: 1.1038\n",
            "Epoch 24/300\n",
            "18/18 [==============================] - 8s 457ms/step - loss: 2.4854 - val_loss: 1.0903\n",
            "Epoch 25/300\n",
            "18/18 [==============================] - 8s 457ms/step - loss: 2.5724 - val_loss: 1.0671\n",
            "Epoch 26/300\n",
            "18/18 [==============================] - 8s 468ms/step - loss: 2.4948 - val_loss: 1.0653\n",
            "Epoch 27/300\n",
            "18/18 [==============================] - 8s 463ms/step - loss: 2.4823 - val_loss: 1.0990\n",
            "Epoch 28/300\n",
            "18/18 [==============================] - 8s 457ms/step - loss: 2.4373 - val_loss: 1.1618\n",
            "Epoch 29/300\n",
            "18/18 [==============================] - 8s 458ms/step - loss: 2.4326 - val_loss: 1.2114\n",
            "Epoch 30/300\n",
            "18/18 [==============================] - 8s 457ms/step - loss: 2.4100 - val_loss: 1.1401\n",
            "Epoch 31/300\n",
            "18/18 [==============================] - 8s 459ms/step - loss: 2.3940 - val_loss: 1.0885\n",
            "Epoch 32/300\n",
            "18/18 [==============================] - 8s 458ms/step - loss: 2.3879 - val_loss: 1.0719\n",
            "Epoch 33/300\n",
            "18/18 [==============================] - 8s 459ms/step - loss: 2.3761 - val_loss: 1.0679\n",
            "Epoch 34/300\n",
            "18/18 [==============================] - 8s 459ms/step - loss: 2.3486 - val_loss: 1.0437\n",
            "Epoch 35/300\n",
            "18/18 [==============================] - 8s 471ms/step - loss: 2.3219 - val_loss: 1.1046\n",
            "Epoch 36/300\n",
            "18/18 [==============================] - 8s 458ms/step - loss: 2.2731 - val_loss: 1.0350\n",
            "Epoch 37/300\n",
            "18/18 [==============================] - 8s 463ms/step - loss: 2.3272 - val_loss: 1.0818\n",
            "Epoch 38/300\n",
            "18/18 [==============================] - 8s 458ms/step - loss: 2.2800 - val_loss: 1.0717\n",
            "Epoch 39/300\n",
            "18/18 [==============================] - 8s 459ms/step - loss: 2.2613 - val_loss: 1.0765\n",
            "Epoch 40/300\n",
            "18/18 [==============================] - 8s 459ms/step - loss: 2.2754 - val_loss: 1.0774\n",
            "Epoch 41/300\n",
            "18/18 [==============================] - 8s 459ms/step - loss: 2.1989 - val_loss: 1.0563\n",
            "Epoch 42/300\n",
            "18/18 [==============================] - 8s 457ms/step - loss: 2.4257 - val_loss: 1.1072\n",
            "Epoch 43/300\n",
            "18/18 [==============================] - 8s 459ms/step - loss: 2.4267 - val_loss: 1.0448\n",
            "Epoch 44/300\n",
            "18/18 [==============================] - 8s 457ms/step - loss: 2.4009 - val_loss: 1.0678\n",
            "Epoch 45/300\n",
            "18/18 [==============================] - 8s 458ms/step - loss: 2.3908 - val_loss: 1.0448\n",
            "Epoch 46/300\n",
            "18/18 [==============================] - 8s 457ms/step - loss: 2.3954 - val_loss: 1.0319\n",
            "Epoch 47/300\n",
            "18/18 [==============================] - 8s 471ms/step - loss: 2.3834 - val_loss: 1.0456\n",
            "Epoch 48/300\n",
            "18/18 [==============================] - 8s 458ms/step - loss: 2.3694 - val_loss: 1.0413\n",
            "Epoch 49/300\n",
            "18/18 [==============================] - 8s 459ms/step - loss: 2.3641 - val_loss: 1.0486\n",
            "Epoch 50/300\n",
            "18/18 [==============================] - 8s 459ms/step - loss: 2.3578 - val_loss: 1.0358\n",
            "Epoch 51/300\n",
            "18/18 [==============================] - 8s 457ms/step - loss: 2.3559 - val_loss: 1.0442\n",
            "Epoch 52/300\n",
            "18/18 [==============================] - 8s 458ms/step - loss: 2.3516 - val_loss: 1.0439\n",
            "Epoch 53/300\n",
            "18/18 [==============================] - 8s 458ms/step - loss: 2.3503 - val_loss: 1.0629\n",
            "Epoch 54/300\n",
            "18/18 [==============================] - 8s 458ms/step - loss: 2.3469 - val_loss: 1.0402\n",
            "Epoch 55/300\n",
            "18/18 [==============================] - 8s 458ms/step - loss: 2.3429 - val_loss: 1.0468\n",
            "Epoch 56/300\n",
            "18/18 [==============================] - 8s 457ms/step - loss: 2.3366 - val_loss: 1.0477\n"
          ],
          "name": "stdout"
        },
        {
          "output_type": "execute_result",
          "data": {
            "text/plain": [
              "<keras.callbacks.History at 0x7fb04aa156a0>"
            ]
          },
          "metadata": {
            "tags": []
          },
          "execution_count": 22
        }
      ]
    },
    {
      "metadata": {
        "id": "KLvtcfWt7bhY",
        "colab_type": "code",
        "colab": {
          "base_uri": "https://localhost:8080/",
          "height": 51
        },
        "outputId": "ad2cf971-4294-46ac-abec-b4968690cb63"
      },
      "cell_type": "code",
      "source": [
        "model.evaluate(val_x,val_y)"
      ],
      "execution_count": 23,
      "outputs": [
        {
          "output_type": "stream",
          "text": [
            "\r6/6 [==============================] - 4s 604ms/step\n"
          ],
          "name": "stdout"
        },
        {
          "output_type": "execute_result",
          "data": {
            "text/plain": [
              "3.013324499130249"
            ]
          },
          "metadata": {
            "tags": []
          },
          "execution_count": 23
        }
      ]
    },
    {
      "metadata": {
        "id": "R3J0RWNDCfZF",
        "colab_type": "code",
        "colab": {
          "base_uri": "https://localhost:8080/",
          "height": 34
        },
        "outputId": "71d435a0-4d9a-422b-bff1-519e354740c6"
      },
      "cell_type": "code",
      "source": [
        "test_data = train_data[:,:,:,-5:]\n",
        "test_data.shape"
      ],
      "execution_count": 24,
      "outputs": [
        {
          "output_type": "execute_result",
          "data": {
            "text/plain": [
              "(29, 21807, 60, 5)"
            ]
          },
          "metadata": {
            "tags": []
          },
          "execution_count": 24
        }
      ]
    },
    {
      "metadata": {
        "id": "ygzV9PBrHnF_",
        "colab_type": "code",
        "colab": {
          "base_uri": "https://localhost:8080/",
          "height": 34
        },
        "outputId": "7ea6fe21-c142-4f64-8329-6b8f9c042040"
      },
      "cell_type": "code",
      "source": [
        "test_data = np_train[-5:,:,:]\n",
        "test_data = test_data.transpose(1,2,0)\n",
        "test_data = test_data[np.newaxis,:,:,:]\n",
        "test_data.shape"
      ],
      "execution_count": 35,
      "outputs": [
        {
          "output_type": "execute_result",
          "data": {
            "text/plain": [
              "(1, 21807, 60, 5)"
            ]
          },
          "metadata": {
            "tags": []
          },
          "execution_count": 35
        }
      ]
    },
    {
      "metadata": {
        "id": "2Fc93AXxIlea",
        "colab_type": "code",
        "colab": {}
      },
      "cell_type": "code",
      "source": [
        "prediction = model.predict(test_data)"
      ],
      "execution_count": 0,
      "outputs": []
    },
    {
      "metadata": {
        "id": "RhcV0YWcIoyo",
        "colab_type": "code",
        "colab": {
          "base_uri": "https://localhost:8080/",
          "height": 34
        },
        "outputId": "608090e6-114f-48d1-9143-376b7fd1afd5"
      },
      "cell_type": "code",
      "source": [
        "prediction = np.squeeze(prediction)\n",
        "prediction.shape"
      ],
      "execution_count": 38,
      "outputs": [
        {
          "output_type": "execute_result",
          "data": {
            "text/plain": [
              "(21807, 60)"
            ]
          },
          "metadata": {
            "tags": []
          },
          "execution_count": 38
        }
      ]
    },
    {
      "metadata": {
        "id": "UvBZ2d3EI2zc",
        "colab_type": "code",
        "colab": {}
      },
      "cell_type": "code",
      "source": [
        "np.save('prediction.npy',prediction)"
      ],
      "execution_count": 0,
      "outputs": []
    },
    {
      "metadata": {
        "id": "3j3wp2jQMNug",
        "colab_type": "code",
        "colab": {}
      },
      "cell_type": "code",
      "source": [
        "import pandas as pd\n",
        "import numpy as np\n",
        "prediction = np.load('drive/kaggle/predict_sales/prediction.npy')"
      ],
      "execution_count": 0,
      "outputs": []
    },
    {
      "metadata": {
        "id": "T-iYH0ihJJgv",
        "colab_type": "code",
        "colab": {}
      },
      "cell_type": "code",
      "source": [
        "\n",
        "test_df = pd.read_csv('drive/kaggle/predict_sales/test2.csv')\n",
        "sample_df = pd.read_csv('drive/kaggle/predict_sales/sample_submission.csv')\n",
        "prediction_df = pd.DataFrame(0,index=test_df['item_id'],columns=test_df['shop_id'])"
      ],
      "execution_count": 0,
      "outputs": []
    },
    {
      "metadata": {
        "id": "1fSEZOcbK7qp",
        "colab_type": "code",
        "colab": {
          "base_uri": "https://localhost:8080/",
          "height": 34
        },
        "outputId": "6012018b-3159-4113-dd56-8a4ffd5ae99c"
      },
      "cell_type": "code",
      "source": [
        ""
      ],
      "execution_count": 4,
      "outputs": [
        {
          "output_type": "stream",
          "text": [
            "adc.json  drive  sample_data\r\n"
          ],
          "name": "stdout"
        }
      ]
    },
    {
      "metadata": {
        "id": "ISRLw9J3L08u",
        "colab_type": "code",
        "colab": {}
      },
      "cell_type": "code",
      "source": [
        ""
      ],
      "execution_count": 0,
      "outputs": []
    }
  ]
}